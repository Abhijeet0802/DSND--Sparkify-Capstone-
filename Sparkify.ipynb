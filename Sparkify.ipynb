{
 "cells": [
  {
   "cell_type": "markdown",
   "metadata": {},
   "source": [
    "# Sparkify Project Workspace\n",
    "This workspace contains a tiny subset (128MB) of the full dataset available (12GB). Feel free to use this workspace to build your project, or to explore a smaller subset with Spark before deploying your cluster on the cloud. Instructions for setting up your Spark cluster is included in the last lesson of the Extracurricular Spark Course content.\n",
    "\n",
    "You can follow the steps below to guide your data analysis and model building portion of this project."
   ]
  },
  {
   "cell_type": "code",
   "execution_count": 96,
   "metadata": {},
   "outputs": [],
   "source": [
    "# import libraries\n",
    "# pandas, numpy and seaborn\n",
    "import pandas as pd\n",
    "import numpy as np\n",
    "import seaborn as sns\n",
    "from matplotlib import pyplot as plt\n",
    "%matplotlib inline\n",
    "import re\n",
    "import datetime\n",
    "\n",
    "# pyspark and related libraries\n",
    "from pyspark.sql import SparkSession\n",
    "from pyspark.sql.functions import udf\n",
    "from pyspark.sql.types import StringType\n",
    "from pyspark.sql.types import IntegerType\n",
    "from pyspark.sql.functions import desc\n",
    "from pyspark.sql.functions import asc\n",
    "from pyspark.sql.functions import sum as Fsum\n",
    "from pyspark.sql.functions import greatest\n",
    "from pyspark.sql.functions import col\n",
    "from pyspark.sql.functions import *\n",
    "from pyspark.sql import Window\n",
    "from pyspark.sql import functions as sF\n",
    "from pyspark.sql import types as sT\n",
    "from functools import reduce\n",
    "\n",
    "# importing all the ML functions\n",
    "from pyspark.ml import Pipeline\n",
    "from pyspark.ml.classification import LogisticRegression, RandomForestClassifier, GBTClassifier, DecisionTreeClassifier, LinearSVC\n",
    "from pyspark.ml.evaluation import MulticlassClassificationEvaluator, BinaryClassificationEvaluator\n",
    "from pyspark.ml.feature import CountVectorizer, IDF, Normalizer, PCA, RegexTokenizer, StandardScaler\n",
    "from pyspark.ml.feature import StopWordsRemover, StringIndexer, VectorAssembler\n",
    "from pyspark.ml.regression import LinearRegression\n",
    "from pyspark.ml.tuning import CrossValidator, ParamGridBuilder\n",
    "from pyspark.ml.param import Param, Params"
   ]
  },
  {
   "cell_type": "code",
   "execution_count": 2,
   "metadata": {},
   "outputs": [],
   "source": [
    "# create a Spark session\n",
    "spark = SparkSession.builder.appName(\"Sparkify\").getOrCreate()"
   ]
  },
  {
   "cell_type": "code",
   "execution_count": 3,
   "metadata": {},
   "outputs": [
    {
     "name": "stdout",
     "output_type": "stream",
     "text": [
      "Sparkify-zh.ipynb\n",
      "Sparkify.ipynb\n",
      "mini_sparkify_event_data.json\n",
      "notebook.tar.gz\n",
      "tar: notebook.tar.gz: file changed as we read it\n"
     ]
    }
   ],
   "source": [
    "!tar chvfz notebook.tar.gz *"
   ]
  },
  {
   "cell_type": "markdown",
   "metadata": {},
   "source": [
    "# Load and Clean Dataset\n",
    "In this workspace, the mini-dataset file is `mini_sparkify_event_data.json`. Load and clean the dataset, checking for invalid or missing data - for example, records without userids or sessionids. "
   ]
  },
  {
   "cell_type": "code",
   "execution_count": 4,
   "metadata": {},
   "outputs": [],
   "source": [
    "# reading the json \n",
    "df = spark.read.json('mini_sparkify_event_data.json')"
   ]
  },
  {
   "cell_type": "code",
   "execution_count": 5,
   "metadata": {},
   "outputs": [
    {
     "name": "stdout",
     "output_type": "stream",
     "text": [
      "root\n",
      " |-- artist: string (nullable = true)\n",
      " |-- auth: string (nullable = true)\n",
      " |-- firstName: string (nullable = true)\n",
      " |-- gender: string (nullable = true)\n",
      " |-- itemInSession: long (nullable = true)\n",
      " |-- lastName: string (nullable = true)\n",
      " |-- length: double (nullable = true)\n",
      " |-- level: string (nullable = true)\n",
      " |-- location: string (nullable = true)\n",
      " |-- method: string (nullable = true)\n",
      " |-- page: string (nullable = true)\n",
      " |-- registration: long (nullable = true)\n",
      " |-- sessionId: long (nullable = true)\n",
      " |-- song: string (nullable = true)\n",
      " |-- status: long (nullable = true)\n",
      " |-- ts: long (nullable = true)\n",
      " |-- userAgent: string (nullable = true)\n",
      " |-- userId: string (nullable = true)\n",
      "\n"
     ]
    }
   ],
   "source": [
    "# analyzing the schema of the dataframe created above\n",
    "df.printSchema()"
   ]
  },
  {
   "cell_type": "code",
   "execution_count": 6,
   "metadata": {},
   "outputs": [
    {
     "data": {
      "text/plain": [
       "[Row(artist='Martha Tilston', auth='Logged In', firstName='Colin', gender='M', itemInSession=50, lastName='Freeman', length=277.89016, level='paid', location='Bakersfield, CA', method='PUT', page='NextSong', registration=1538173362000, sessionId=29, song='Rockpools', status=200, ts=1538352117000, userAgent='Mozilla/5.0 (Windows NT 6.1; WOW64; rv:31.0) Gecko/20100101 Firefox/31.0', userId='30'),\n",
       " Row(artist='Five Iron Frenzy', auth='Logged In', firstName='Micah', gender='M', itemInSession=79, lastName='Long', length=236.09424, level='free', location='Boston-Cambridge-Newton, MA-NH', method='PUT', page='NextSong', registration=1538331630000, sessionId=8, song='Canada', status=200, ts=1538352180000, userAgent='\"Mozilla/5.0 (Windows NT 6.1; WOW64) AppleWebKit/537.36 (KHTML, like Gecko) Chrome/37.0.2062.103 Safari/537.36\"', userId='9')]"
      ]
     },
     "execution_count": 6,
     "metadata": {},
     "output_type": "execute_result"
    }
   ],
   "source": [
    "# looking at first 2 records\n",
    "df.take(2)"
   ]
  },
  {
   "cell_type": "code",
   "execution_count": 7,
   "metadata": {},
   "outputs": [
    {
     "data": {
      "text/html": [
       "<div>\n",
       "<style scoped>\n",
       "    .dataframe tbody tr th:only-of-type {\n",
       "        vertical-align: middle;\n",
       "    }\n",
       "\n",
       "    .dataframe tbody tr th {\n",
       "        vertical-align: top;\n",
       "    }\n",
       "\n",
       "    .dataframe thead th {\n",
       "        text-align: right;\n",
       "    }\n",
       "</style>\n",
       "<table border=\"1\" class=\"dataframe\">\n",
       "  <thead>\n",
       "    <tr style=\"text-align: right;\">\n",
       "      <th></th>\n",
       "      <th>artist</th>\n",
       "      <th>auth</th>\n",
       "      <th>firstName</th>\n",
       "      <th>gender</th>\n",
       "      <th>itemInSession</th>\n",
       "      <th>lastName</th>\n",
       "      <th>length</th>\n",
       "      <th>level</th>\n",
       "      <th>location</th>\n",
       "      <th>method</th>\n",
       "      <th>page</th>\n",
       "      <th>registration</th>\n",
       "      <th>sessionId</th>\n",
       "      <th>song</th>\n",
       "      <th>status</th>\n",
       "      <th>ts</th>\n",
       "      <th>userAgent</th>\n",
       "      <th>userId</th>\n",
       "    </tr>\n",
       "  </thead>\n",
       "  <tbody>\n",
       "    <tr>\n",
       "      <th>0</th>\n",
       "      <td>Martha Tilston</td>\n",
       "      <td>Logged In</td>\n",
       "      <td>Colin</td>\n",
       "      <td>M</td>\n",
       "      <td>50</td>\n",
       "      <td>Freeman</td>\n",
       "      <td>277.89016</td>\n",
       "      <td>paid</td>\n",
       "      <td>Bakersfield, CA</td>\n",
       "      <td>PUT</td>\n",
       "      <td>NextSong</td>\n",
       "      <td>1.538173e+12</td>\n",
       "      <td>29</td>\n",
       "      <td>Rockpools</td>\n",
       "      <td>200</td>\n",
       "      <td>1538352117000</td>\n",
       "      <td>Mozilla/5.0 (Windows NT 6.1; WOW64; rv:31.0) G...</td>\n",
       "      <td>30</td>\n",
       "    </tr>\n",
       "    <tr>\n",
       "      <th>1</th>\n",
       "      <td>Five Iron Frenzy</td>\n",
       "      <td>Logged In</td>\n",
       "      <td>Micah</td>\n",
       "      <td>M</td>\n",
       "      <td>79</td>\n",
       "      <td>Long</td>\n",
       "      <td>236.09424</td>\n",
       "      <td>free</td>\n",
       "      <td>Boston-Cambridge-Newton, MA-NH</td>\n",
       "      <td>PUT</td>\n",
       "      <td>NextSong</td>\n",
       "      <td>1.538332e+12</td>\n",
       "      <td>8</td>\n",
       "      <td>Canada</td>\n",
       "      <td>200</td>\n",
       "      <td>1538352180000</td>\n",
       "      <td>\"Mozilla/5.0 (Windows NT 6.1; WOW64) AppleWebK...</td>\n",
       "      <td>9</td>\n",
       "    </tr>\n",
       "  </tbody>\n",
       "</table>\n",
       "</div>"
      ],
      "text/plain": [
       "             artist       auth firstName gender  itemInSession lastName  \\\n",
       "0    Martha Tilston  Logged In     Colin      M             50  Freeman   \n",
       "1  Five Iron Frenzy  Logged In     Micah      M             79     Long   \n",
       "\n",
       "      length level                        location method      page  \\\n",
       "0  277.89016  paid                 Bakersfield, CA    PUT  NextSong   \n",
       "1  236.09424  free  Boston-Cambridge-Newton, MA-NH    PUT  NextSong   \n",
       "\n",
       "   registration  sessionId       song  status             ts  \\\n",
       "0  1.538173e+12         29  Rockpools     200  1538352117000   \n",
       "1  1.538332e+12          8     Canada     200  1538352180000   \n",
       "\n",
       "                                           userAgent userId  \n",
       "0  Mozilla/5.0 (Windows NT 6.1; WOW64; rv:31.0) G...     30  \n",
       "1  \"Mozilla/5.0 (Windows NT 6.1; WOW64) AppleWebK...      9  "
      ]
     },
     "execution_count": 7,
     "metadata": {},
     "output_type": "execute_result"
    }
   ],
   "source": [
    "# It will be easier to look at the above as a pandas dataframe. converting the df to a pandas dataframe\n",
    "p_df = df.toPandas() \n",
    "p_df.head(2)"
   ]
  },
  {
   "cell_type": "code",
   "execution_count": 8,
   "metadata": {},
   "outputs": [
    {
     "name": "stdout",
     "output_type": "stream",
     "text": [
      "<class 'pandas.core.frame.DataFrame'>\n",
      "RangeIndex: 286500 entries, 0 to 286499\n",
      "Data columns (total 18 columns):\n",
      "artist           228108 non-null object\n",
      "auth             286500 non-null object\n",
      "firstName        278154 non-null object\n",
      "gender           278154 non-null object\n",
      "itemInSession    286500 non-null int64\n",
      "lastName         278154 non-null object\n",
      "length           228108 non-null float64\n",
      "level            286500 non-null object\n",
      "location         278154 non-null object\n",
      "method           286500 non-null object\n",
      "page             286500 non-null object\n",
      "registration     278154 non-null float64\n",
      "sessionId        286500 non-null int64\n",
      "song             228108 non-null object\n",
      "status           286500 non-null int64\n",
      "ts               286500 non-null int64\n",
      "userAgent        278154 non-null object\n",
      "userId           286500 non-null object\n",
      "dtypes: float64(2), int64(4), object(12)\n",
      "memory usage: 39.3+ MB\n"
     ]
    }
   ],
   "source": [
    "p_df.info()"
   ]
  },
  {
   "cell_type": "code",
   "execution_count": 9,
   "metadata": {},
   "outputs": [
    {
     "data": {
      "text/plain": [
       "(array(['Logged In', 'Logged Out', 'Cancelled', 'Guest'], dtype=object),\n",
       " array(['paid', 'free'], dtype=object),\n",
       " array(['PUT', 'GET'], dtype=object),\n",
       " array(['NextSong', 'Add to Playlist', 'Roll Advert', 'Thumbs Up',\n",
       "        'Downgrade', 'Thumbs Down', 'Home', 'Logout', 'Help', 'Login',\n",
       "        'Upgrade', 'Add Friend', 'About', 'Settings', 'Submit Upgrade',\n",
       "        'Submit Downgrade', 'Error', 'Save Settings', 'Cancel',\n",
       "        'Cancellation Confirmation', 'Register', 'Submit Registration'], dtype=object))"
      ]
     },
     "execution_count": 9,
     "metadata": {},
     "output_type": "execute_result"
    }
   ],
   "source": [
    "# analyzing values of some of the columns\n",
    "p_df.auth.unique(), p_df.level.unique(), p_df.method.unique(), p_df.page.unique()\n",
    "#p_df.registration.unique(),\n",
    "#p_df.status.unique(),\n",
    "#p_df.ts.unique(),\n",
    "#p_df.userAgent.unique(),"
   ]
  },
  {
   "cell_type": "code",
   "execution_count": 10,
   "metadata": {},
   "outputs": [
    {
     "data": {
      "text/html": [
       "<div>\n",
       "<style scoped>\n",
       "    .dataframe tbody tr th:only-of-type {\n",
       "        vertical-align: middle;\n",
       "    }\n",
       "\n",
       "    .dataframe tbody tr th {\n",
       "        vertical-align: top;\n",
       "    }\n",
       "\n",
       "    .dataframe thead th {\n",
       "        text-align: right;\n",
       "    }\n",
       "</style>\n",
       "<table border=\"1\" class=\"dataframe\">\n",
       "  <thead>\n",
       "    <tr style=\"text-align: right;\">\n",
       "      <th></th>\n",
       "      <th>itemInSession</th>\n",
       "      <th>length</th>\n",
       "      <th>registration</th>\n",
       "      <th>sessionId</th>\n",
       "      <th>status</th>\n",
       "      <th>ts</th>\n",
       "    </tr>\n",
       "  </thead>\n",
       "  <tbody>\n",
       "    <tr>\n",
       "      <th>count</th>\n",
       "      <td>286500.000000</td>\n",
       "      <td>228108.000000</td>\n",
       "      <td>2.781540e+05</td>\n",
       "      <td>286500.000000</td>\n",
       "      <td>286500.000000</td>\n",
       "      <td>2.865000e+05</td>\n",
       "    </tr>\n",
       "    <tr>\n",
       "      <th>mean</th>\n",
       "      <td>114.414213</td>\n",
       "      <td>249.117182</td>\n",
       "      <td>1.535359e+12</td>\n",
       "      <td>1041.526555</td>\n",
       "      <td>210.054597</td>\n",
       "      <td>1.540957e+12</td>\n",
       "    </tr>\n",
       "    <tr>\n",
       "      <th>std</th>\n",
       "      <td>129.767262</td>\n",
       "      <td>99.235179</td>\n",
       "      <td>3.291322e+09</td>\n",
       "      <td>726.776263</td>\n",
       "      <td>31.505078</td>\n",
       "      <td>1.507544e+09</td>\n",
       "    </tr>\n",
       "    <tr>\n",
       "      <th>min</th>\n",
       "      <td>0.000000</td>\n",
       "      <td>0.783220</td>\n",
       "      <td>1.521381e+12</td>\n",
       "      <td>1.000000</td>\n",
       "      <td>200.000000</td>\n",
       "      <td>1.538352e+12</td>\n",
       "    </tr>\n",
       "    <tr>\n",
       "      <th>25%</th>\n",
       "      <td>27.000000</td>\n",
       "      <td>199.888530</td>\n",
       "      <td>1.533522e+12</td>\n",
       "      <td>336.000000</td>\n",
       "      <td>200.000000</td>\n",
       "      <td>1.539697e+12</td>\n",
       "    </tr>\n",
       "    <tr>\n",
       "      <th>50%</th>\n",
       "      <td>70.000000</td>\n",
       "      <td>234.500770</td>\n",
       "      <td>1.536664e+12</td>\n",
       "      <td>1013.000000</td>\n",
       "      <td>200.000000</td>\n",
       "      <td>1.540932e+12</td>\n",
       "    </tr>\n",
       "    <tr>\n",
       "      <th>75%</th>\n",
       "      <td>156.250000</td>\n",
       "      <td>277.158730</td>\n",
       "      <td>1.537672e+12</td>\n",
       "      <td>1675.000000</td>\n",
       "      <td>200.000000</td>\n",
       "      <td>1.542266e+12</td>\n",
       "    </tr>\n",
       "    <tr>\n",
       "      <th>max</th>\n",
       "      <td>1321.000000</td>\n",
       "      <td>3024.665670</td>\n",
       "      <td>1.543247e+12</td>\n",
       "      <td>2474.000000</td>\n",
       "      <td>404.000000</td>\n",
       "      <td>1.543799e+12</td>\n",
       "    </tr>\n",
       "  </tbody>\n",
       "</table>\n",
       "</div>"
      ],
      "text/plain": [
       "       itemInSession         length  registration      sessionId  \\\n",
       "count  286500.000000  228108.000000  2.781540e+05  286500.000000   \n",
       "mean      114.414213     249.117182  1.535359e+12    1041.526555   \n",
       "std       129.767262      99.235179  3.291322e+09     726.776263   \n",
       "min         0.000000       0.783220  1.521381e+12       1.000000   \n",
       "25%        27.000000     199.888530  1.533522e+12     336.000000   \n",
       "50%        70.000000     234.500770  1.536664e+12    1013.000000   \n",
       "75%       156.250000     277.158730  1.537672e+12    1675.000000   \n",
       "max      1321.000000    3024.665670  1.543247e+12    2474.000000   \n",
       "\n",
       "              status            ts  \n",
       "count  286500.000000  2.865000e+05  \n",
       "mean      210.054597  1.540957e+12  \n",
       "std        31.505078  1.507544e+09  \n",
       "min       200.000000  1.538352e+12  \n",
       "25%       200.000000  1.539697e+12  \n",
       "50%       200.000000  1.540932e+12  \n",
       "75%       200.000000  1.542266e+12  \n",
       "max       404.000000  1.543799e+12  "
      ]
     },
     "execution_count": 10,
     "metadata": {},
     "output_type": "execute_result"
    }
   ],
   "source": [
    "p_df.describe()"
   ]
  },
  {
   "cell_type": "code",
   "execution_count": 11,
   "metadata": {},
   "outputs": [
    {
     "data": {
      "text/plain": [
       "array(['30', '9', '74', '54', '', '4', '101', '78', '88', '95', '25',\n",
       "       '142', '13', '45', '39', '87', '28', '131', '126', '146', '59',\n",
       "       '15', '36', '120', '92', '33', '51', '27', '143', '140', '6', '124',\n",
       "       '141', '93', '81', '40', '94', '113', '98', '137', '65', '53', '42',\n",
       "       '115', '38', '58', '77', '52', '29', '70', '61', '46', '35', '132',\n",
       "       '127', '136', '80', '110', '129', '121', '82', '100', '117', '18',\n",
       "       '85', '118', '105', '96', '20', '55', '3', '12', '41', '73', '17',\n",
       "       '86', '7', '67', '32', '5', '106', '114', '69', '99', '16', '49',\n",
       "       '50', '24', '103', '102', '122', '75', '135', '128', '111', '112',\n",
       "       '145', '66', '83', '44', '11', '91', '37', '90', '104', '138',\n",
       "       '148', '107', '97', '109', '134', '10', '2', '144', '76', '119',\n",
       "       '89', '14', '62', '19', '150', '68', '147', '8', '56', '34', '60',\n",
       "       '125', '47', '133', '26', '43', '57', '149', '64', '21', '71',\n",
       "       '108', '79', '123', '116', '152', '63', '139', '23', '154', '155',\n",
       "       '72', '151', '153', '22', '84', '156', '100009', '100022', '100001',\n",
       "       '100025', '100005', '100016', '100011', '100015', '100007',\n",
       "       '100013', '100004', '100012', '100023', '100024', '100018',\n",
       "       '100006', '100019', '100010', '100002', '100003', '100008',\n",
       "       '100014', '100021', '100017', '200014', '200019', '200002',\n",
       "       '200023', '200001', '200020', '200022', '200006', '200011',\n",
       "       '200010', '200015', '200004', '200021', '200017', '200008',\n",
       "       '200024', '200003', '200018', '200009', '200025', '200016',\n",
       "       '200007', '200005', '200012', '300001', '300017', '300015',\n",
       "       '300011', '300008', '300023', '300021', '300009', '300025',\n",
       "       '300002', '300012', '300007', '300005', '300010', '300014',\n",
       "       '300016', '300019', '300020', '300022', '300013', '300018',\n",
       "       '300006', '300003', '300004', '300024'], dtype=object)"
      ]
     },
     "execution_count": 11,
     "metadata": {},
     "output_type": "execute_result"
    }
   ],
   "source": [
    "# from the above we know that total rows are 286500 and both userIds and sessionIds have 286500 non null values, \n",
    "# that means using dropna will not be useful. We see that the df has blank values which we would need to filter out\n",
    "p_df.userId.unique()"
   ]
  },
  {
   "cell_type": "code",
   "execution_count": 12,
   "metadata": {},
   "outputs": [],
   "source": [
    "df_final = df.filter(df[\"userId\"] != \"\")"
   ]
  },
  {
   "cell_type": "code",
   "execution_count": 13,
   "metadata": {},
   "outputs": [
    {
     "data": {
      "text/plain": [
       "278154"
      ]
     },
     "execution_count": 13,
     "metadata": {},
     "output_type": "execute_result"
    }
   ],
   "source": [
    "df_final.count()"
   ]
  },
  {
   "cell_type": "markdown",
   "metadata": {},
   "source": [
    "#### We dropped (286500 - 278154) = 8346 rows with missing userIds."
   ]
  },
  {
   "cell_type": "markdown",
   "metadata": {},
   "source": [
    "# Exploratory Data Analysis\n",
    "When you're working with the full dataset, perform EDA by loading a small subset of the data and doing basic manipulations within Spark. In this workspace, you are already provided a small subset of data you can explore.\n",
    "\n",
    "### Define Churn\n",
    "\n",
    "Once you've done some preliminary analysis, create a column `Churn` to use as the label for your model. I suggest using the `Cancellation Confirmation` events to define your churn, which happen for both paid and free users. As a bonus task, you can also look into the `Downgrade` events.\n",
    "\n",
    "### Explore Data\n",
    "Once you've defined churn, perform some exploratory data analysis to observe the behavior for users who stayed vs users who churned. You can start by exploring aggregates on these two groups of users, observing how much of a specific action they experienced per a certain time unit or number of songs played.\n",
    "\n",
    "### Defining Churn\n",
    "A user is said to have churned if there is an event \"Cancellation Confirmation\" is present in one of the sessions page for a given userId."
   ]
  },
  {
   "cell_type": "code",
   "execution_count": 14,
   "metadata": {},
   "outputs": [],
   "source": [
    "# creating the flag 1 or 0 variable to identified churned users\n",
    "users_churned = df_final.filter(df.page == \"Cancellation Confirmation\").select(\"userId\").dropDuplicates()\n",
    "users_churned_list = [(row['userId']) for row in users_churned.collect()]\n",
    "df_final = df_final.withColumn(\"churn\", df_final.userId.isin(users_churned_list))"
   ]
  },
  {
   "cell_type": "code",
   "execution_count": 15,
   "metadata": {},
   "outputs": [
    {
     "data": {
      "image/png": "[encoded data removed]",
      "text/plain": [
       "<matplotlib.figure.Figure at 0x7f5cc3aa4e80>"
      ]
     },
     "metadata": {
      "needs_background": "light"
     },
     "output_type": "display_data"
    }
   ],
   "source": [
    "# looking at spread of churned vs non-churned users\n",
    "churn_pd = df_final.dropDuplicates([\"userId\"]).groupby([\"churn\"]).count().sort(\"churn\").toPandas()\n",
    "ax = sns.barplot(x ='churn', y ='count', data=churn_pd)\n",
    "plt.xlabel('User Churn: True or Flase')\n",
    "plt.ylabel('No. of Users')\n",
    "plt.title('Churn')\n",
    "sns.despine(ax=ax);"
   ]
  },
  {
   "cell_type": "code",
   "execution_count": 16,
   "metadata": {},
   "outputs": [
    {
     "data": {
      "text/html": [
       "<div>\n",
       "<style scoped>\n",
       "    .dataframe tbody tr th:only-of-type {\n",
       "        vertical-align: middle;\n",
       "    }\n",
       "\n",
       "    .dataframe tbody tr th {\n",
       "        vertical-align: top;\n",
       "    }\n",
       "\n",
       "    .dataframe thead th {\n",
       "        text-align: right;\n",
       "    }\n",
       "</style>\n",
       "<table border=\"1\" class=\"dataframe\">\n",
       "  <thead>\n",
       "    <tr style=\"text-align: right;\">\n",
       "      <th></th>\n",
       "      <th>churn</th>\n",
       "      <th>count</th>\n",
       "    </tr>\n",
       "  </thead>\n",
       "  <tbody>\n",
       "    <tr>\n",
       "      <th>0</th>\n",
       "      <td>False</td>\n",
       "      <td>173</td>\n",
       "    </tr>\n",
       "    <tr>\n",
       "      <th>1</th>\n",
       "      <td>True</td>\n",
       "      <td>52</td>\n",
       "    </tr>\n",
       "  </tbody>\n",
       "</table>\n",
       "</div>"
      ],
      "text/plain": [
       "   churn  count\n",
       "0  False    173\n",
       "1   True     52"
      ]
     },
     "execution_count": 16,
     "metadata": {},
     "output_type": "execute_result"
    }
   ],
   "source": [
    "churn_pd"
   ]
  },
  {
   "cell_type": "markdown",
   "metadata": {},
   "source": [
    "We have 225 unique userIds with 52 churned users and 173 continuing users."
   ]
  },
  {
   "cell_type": "code",
   "execution_count": 17,
   "metadata": {},
   "outputs": [
    {
     "data": {
      "image/png": "[encoded data removed]",
      "text/plain": [
       "<matplotlib.figure.Figure at 0x7f5ccceab550>"
      ]
     },
     "metadata": {
      "needs_background": "light"
     },
     "output_type": "display_data"
    }
   ],
   "source": [
    "# looking at the distribution of userIds by gender and churn\n",
    "\n",
    "churn_pd_gender = df_final.dropDuplicates([\"userId\", \"gender\"]).groupby([\"churn\", \"gender\"]).count().sort(\"churn\").toPandas()\n",
    "\n",
    "ax = sns.barplot(x ='churn', y ='count', hue ='gender', data = churn_pd_gender)\n",
    "plt.xlabel('User Churn: True or Flase')\n",
    "plt.ylabel('No. of  Users')\n",
    "plt.legend(title ='Gender', loc ='best')\n",
    "plt.title('Churn across Genders')\n",
    "sns.despine(ax=ax);"
   ]
  },
  {
   "cell_type": "code",
   "execution_count": 18,
   "metadata": {},
   "outputs": [
    {
     "data": {
      "text/html": [
       "<div>\n",
       "<style scoped>\n",
       "    .dataframe tbody tr th:only-of-type {\n",
       "        vertical-align: middle;\n",
       "    }\n",
       "\n",
       "    .dataframe tbody tr th {\n",
       "        vertical-align: top;\n",
       "    }\n",
       "\n",
       "    .dataframe thead th {\n",
       "        text-align: right;\n",
       "    }\n",
       "</style>\n",
       "<table border=\"1\" class=\"dataframe\">\n",
       "  <thead>\n",
       "    <tr style=\"text-align: right;\">\n",
       "      <th></th>\n",
       "      <th>churn</th>\n",
       "      <th>gender</th>\n",
       "      <th>count</th>\n",
       "    </tr>\n",
       "  </thead>\n",
       "  <tbody>\n",
       "    <tr>\n",
       "      <th>0</th>\n",
       "      <td>False</td>\n",
       "      <td>M</td>\n",
       "      <td>89</td>\n",
       "    </tr>\n",
       "    <tr>\n",
       "      <th>1</th>\n",
       "      <td>False</td>\n",
       "      <td>F</td>\n",
       "      <td>84</td>\n",
       "    </tr>\n",
       "    <tr>\n",
       "      <th>2</th>\n",
       "      <td>True</td>\n",
       "      <td>F</td>\n",
       "      <td>20</td>\n",
       "    </tr>\n",
       "    <tr>\n",
       "      <th>3</th>\n",
       "      <td>True</td>\n",
       "      <td>M</td>\n",
       "      <td>32</td>\n",
       "    </tr>\n",
       "  </tbody>\n",
       "</table>\n",
       "</div>"
      ],
      "text/plain": [
       "   churn gender  count\n",
       "0  False      M     89\n",
       "1  False      F     84\n",
       "2   True      F     20\n",
       "3   True      M     32"
      ]
     },
     "execution_count": 18,
     "metadata": {},
     "output_type": "execute_result"
    }
   ],
   "source": [
    "churn_pd_gender"
   ]
  },
  {
   "cell_type": "markdown",
   "metadata": {},
   "source": [
    "Male users are more likely to churn than the Female users."
   ]
  },
  {
   "cell_type": "code",
   "execution_count": 19,
   "metadata": {},
   "outputs": [
    {
     "data": {
      "image/png": "[encoded data removed]",
      "text/plain": [
       "<matplotlib.figure.Figure at 0x7f5cc7ba22b0>"
      ]
     },
     "metadata": {
      "needs_background": "light"
     },
     "output_type": "display_data"
    }
   ],
   "source": [
    "# looking at the churn distribution by paid or free users.\n",
    "\n",
    "churn_pd_level = df_final.dropDuplicates([\"userId\", \"level\"]).groupby([\"churn\", \"level\"]).count().sort(\"churn\").toPandas()\n",
    "\n",
    "ax = sns.barplot(x ='churn', y ='count', hue ='level', data = churn_pd_level)\n",
    "plt.xlabel('User Churn: True or Flase')\n",
    "plt.ylabel('No. of  Users')\n",
    "plt.legend(title ='User Level', loc ='best')\n",
    "plt.title('Churn across User Level')\n",
    "sns.despine(ax=ax);"
   ]
  },
  {
   "cell_type": "code",
   "execution_count": 20,
   "metadata": {},
   "outputs": [
    {
     "data": {
      "text/html": [
       "<div>\n",
       "<style scoped>\n",
       "    .dataframe tbody tr th:only-of-type {\n",
       "        vertical-align: middle;\n",
       "    }\n",
       "\n",
       "    .dataframe tbody tr th {\n",
       "        vertical-align: top;\n",
       "    }\n",
       "\n",
       "    .dataframe thead th {\n",
       "        text-align: right;\n",
       "    }\n",
       "</style>\n",
       "<table border=\"1\" class=\"dataframe\">\n",
       "  <thead>\n",
       "    <tr style=\"text-align: right;\">\n",
       "      <th></th>\n",
       "      <th>churn</th>\n",
       "      <th>level</th>\n",
       "      <th>count</th>\n",
       "    </tr>\n",
       "  </thead>\n",
       "  <tbody>\n",
       "    <tr>\n",
       "      <th>0</th>\n",
       "      <td>False</td>\n",
       "      <td>free</td>\n",
       "      <td>149</td>\n",
       "    </tr>\n",
       "    <tr>\n",
       "      <th>1</th>\n",
       "      <td>False</td>\n",
       "      <td>paid</td>\n",
       "      <td>129</td>\n",
       "    </tr>\n",
       "    <tr>\n",
       "      <th>2</th>\n",
       "      <td>True</td>\n",
       "      <td>paid</td>\n",
       "      <td>36</td>\n",
       "    </tr>\n",
       "    <tr>\n",
       "      <th>3</th>\n",
       "      <td>True</td>\n",
       "      <td>free</td>\n",
       "      <td>46</td>\n",
       "    </tr>\n",
       "  </tbody>\n",
       "</table>\n",
       "</div>"
      ],
      "text/plain": [
       "   churn level  count\n",
       "0  False  free    149\n",
       "1  False  paid    129\n",
       "2   True  paid     36\n",
       "3   True  free     46"
      ]
     },
     "execution_count": 20,
     "metadata": {},
     "output_type": "execute_result"
    }
   ],
   "source": [
    "churn_pd_level"
   ]
  },
  {
   "cell_type": "markdown",
   "metadata": {},
   "source": [
    "Paid users have a higher churn rate compared to Free users. This is obvious as a paid user as soon as he realizes that the service would want to save money and cancel his subscription."
   ]
  },
  {
   "cell_type": "code",
   "execution_count": 21,
   "metadata": {},
   "outputs": [],
   "source": [
    "# total number of songs users have listened to\n",
    "tot_songs_pd = df_final.where('page == \"NextSong\"').groupby(['userId', 'churn', 'gender', 'page']).count().toPandas()\n",
    "tot_songs_pd = tot_songs_pd.pivot_table(index=['userId','churn','gender'], values='count', columns='page').reset_index()"
   ]
  },
  {
   "cell_type": "code",
   "execution_count": 22,
   "metadata": {},
   "outputs": [
    {
     "data": {
      "image/png": "[encoded data removed]",
      "text/plain": [
       "<matplotlib.figure.Figure at 0x7f5cc5663d68>"
      ]
     },
     "metadata": {
      "needs_background": "light"
     },
     "output_type": "display_data"
    }
   ],
   "source": [
    "# visual representation of no. of songs across both genders\n",
    "ax = sns.barplot(data = tot_songs_pd, x = 'churn', y = 'NextSong', hue='gender')\n",
    "plt.xlabel('User Churn: True or Flase')\n",
    "plt.ylabel('Total Songs Listened')\n",
    "plt.legend(title='Gender', loc='best')\n",
    "plt.title('Total Songs')\n",
    "sns.despine(ax=ax);"
   ]
  },
  {
   "cell_type": "markdown",
   "metadata": {},
   "source": [
    "Female users listened to more songs than Male users."
   ]
  },
  {
   "cell_type": "code",
   "execution_count": 23,
   "metadata": {},
   "outputs": [
    {
     "data": {
      "image/png": "[encoded data removed]",
      "text/plain": [
       "<matplotlib.figure.Figure at 0x7f5cc6fd5898>"
      ]
     },
     "metadata": {
      "needs_background": "light"
     },
     "output_type": "display_data"
    }
   ],
   "source": [
    "# visual representation for the number of songs played per session across both genders\n",
    "tot_songs_session_pd = df_final.where('page == \"NextSong\"').groupby(['churn', 'userId', 'sessionId','gender']).count()\\\n",
    "    .groupby(['churn', 'userId', 'gender']).agg({'count':'avg'})\\\n",
    "    .withColumnRenamed('avg(count)', 'avg_songs_played')\\\n",
    "    .toPandas()\n",
    "\n",
    "ax = sns.barplot('churn', y = 'avg_songs_played', hue = 'gender', data = tot_songs_session_pd)\n",
    "plt.xlabel('User churn: True or Flase')\n",
    "plt.ylabel('Average Songs Played Per Session')\n",
    "plt.legend(title = 'Gender', loc = 'best', ncol = 2)\n",
    "plt.title('Avg. Songs Played Per Session')\n",
    "sns.despine(ax=ax);"
   ]
  },
  {
   "cell_type": "markdown",
   "metadata": {},
   "source": [
    "Female users who keep using the service play more songs compared to the Female user who churn. In case of Male users the difference is marginal."
   ]
  },
  {
   "cell_type": "code",
   "execution_count": 24,
   "metadata": {},
   "outputs": [],
   "source": [
    "# adding time aspect to the analysis. \n",
    "ts_converted = udf(lambda x: datetime.datetime.fromtimestamp(x / 1000.0).strftime(\"%Y-%m-%d %H:%M:%S\"))\n",
    "df_final = df_final.withColumn('event_time', ts_converted('ts'))\n",
    "df_final = df_final.withColumn('registration_time', ts_converted('registration'))\n",
    "df_final = df_final.withColumn('time', ts_converted(df_final.ts))"
   ]
  },
  {
   "cell_type": "code",
   "execution_count": 25,
   "metadata": {},
   "outputs": [],
   "source": [
    "# finding hour, date and weekday from the time\n",
    "hour = udf(lambda x: datetime.datetime.fromtimestamp(x / 1000.0).hour)\n",
    "df_final = df_final.withColumn(\"hour\", hour(df_final.ts))\n",
    "\n",
    "weekday = udf(lambda x: datetime.datetime.fromtimestamp(x / 1000.0).strftime(\"%w\"))\n",
    "df_final = df_final.withColumn(\"weekday\", weekday(df_final.ts))\n",
    "\n",
    "day = udf(lambda x: datetime.datetime.fromtimestamp(x / 1000.0).day)\n",
    "df_final = df_final.withColumn(\"day\", day(df_final.ts))"
   ]
  },
  {
   "cell_type": "code",
   "execution_count": 26,
   "metadata": {},
   "outputs": [
    {
     "data": {
      "text/plain": [
       "<matplotlib.axes._subplots.AxesSubplot at 0x7f5cc6aef6d8>"
      ]
     },
     "execution_count": 26,
     "metadata": {},
     "output_type": "execute_result"
    },
    {
     "data": {
      "image/png": "[encoded data removed]",
      "text/plain": [
       "<matplotlib.figure.Figure at 0x7f5cc6c83c50>"
      ]
     },
     "metadata": {
      "needs_background": "light"
     },
     "output_type": "display_data"
    },
    {
     "data": {
      "image/png": "[encoded data removed]",
      "text/plain": [
       "<matplotlib.figure.Figure at 0x7f5cc6a2f710>"
      ]
     },
     "metadata": {
      "needs_background": "light"
     },
     "output_type": "display_data"
    }
   ],
   "source": [
    "hour_df_pd = df_final.filter(df_final.page == \"NextSong\").groupby(\"churn\", \"hour\").count().orderBy(df_final[\"hour\"].cast(\"float\")).toPandas()\n",
    "hour_df_pd[\"hour\"] = pd.to_numeric(hour_df_pd[\"hour\"])\n",
    "hour_df_pd[hour_df_pd.churn == 0].plot.scatter(x = \"hour\", y = 'count', color = 'Blue', label = 'Not Churn')\n",
    "hour_df_pd[hour_df_pd.churn == 1].plot.scatter(x = \"hour\", y = 'count', color = 'Red', label = 'Churn')"
   ]
  },
  {
   "cell_type": "markdown",
   "metadata": {},
   "source": [
    "For both the churned and on-churned users, the usage peaks around 3-5 pm and goes down by 10pm."
   ]
  },
  {
   "cell_type": "code",
   "execution_count": 27,
   "metadata": {},
   "outputs": [
    {
     "data": {
      "text/plain": [
       "<matplotlib.axes._subplots.AxesSubplot at 0x7f5cc5685470>"
      ]
     },
     "execution_count": 27,
     "metadata": {},
     "output_type": "execute_result"
    },
    {
     "data": {
      "image/png": "[encoded data removed]",
      "text/plain": [
       "<matplotlib.figure.Figure at 0x7f5cc6ce8908>"
      ]
     },
     "metadata": {
      "needs_background": "light"
     },
     "output_type": "display_data"
    },
    {
     "data": {
      "image/png": "[encoded data removed]",
      "text/plain": [
       "<matplotlib.figure.Figure at 0x7f5cc55ab358>"
      ]
     },
     "metadata": {
      "needs_background": "light"
     },
     "output_type": "display_data"
    }
   ],
   "source": [
    "day_df_pd = df_final.filter(df_final.page == \"NextSong\").groupby(\"churn\", \"day\").count().orderBy(df_final[\"day\"].cast(\"float\")).toPandas()\n",
    "day_df_pd[\"day\"] = pd.to_numeric(day_df_pd[\"day\"])\n",
    "day_df_pd[day_df_pd.churn == 0].plot.bar(x = \"day\", y = 'count', color = 'Blue', label = 'Not Churn')\n",
    "day_df_pd[day_df_pd.churn == 1].plot.bar(x = \"day\", y = 'count', color = 'Red', label = 'Churn')"
   ]
  },
  {
   "cell_type": "markdown",
   "metadata": {},
   "source": [
    "Usage for the churned userd decline by the end of the month could be because that's the time they churn and avoid next month's subscription charges. On the other hand, churned users use the service with ups and downs over entire days of the month."
   ]
  },
  {
   "cell_type": "code",
   "execution_count": 28,
   "metadata": {},
   "outputs": [
    {
     "data": {
      "text/plain": [
       "<matplotlib.axes._subplots.AxesSubplot at 0x7f5cc49a30f0>"
      ]
     },
     "execution_count": 28,
     "metadata": {},
     "output_type": "execute_result"
    },
    {
     "data": {
      "image/png": "[encoded data removed]",
      "text/plain": [
       "<matplotlib.figure.Figure at 0x7f5cc50adeb8>"
      ]
     },
     "metadata": {
      "needs_background": "light"
     },
     "output_type": "display_data"
    },
    {
     "data": {
      "image/png": "[encoded data removed]",
      "text/plain": [
       "<matplotlib.figure.Figure at 0x7f5cc4ca59b0>"
      ]
     },
     "metadata": {
      "needs_background": "light"
     },
     "output_type": "display_data"
    }
   ],
   "source": [
    "weekday_df_pd = df_final.filter(df_final.page == \"NextSong\").groupby(\"churn\", \"weekday\").count().orderBy(df_final[\"weekday\"].cast(\"float\")).toPandas()\n",
    "weekday_df_pd[\"weekday\"] = pd.to_numeric(weekday_df_pd[\"weekday\"])\n",
    "weekday_df_pd[weekday_df_pd.churn == 0].plot.bar(x = \"weekday\", y = 'count', color = 'Blue', label = 'Not Churn')\n",
    "weekday_df_pd[weekday_df_pd.churn == 1].plot.bar(x = \"weekday\", y = 'count', color = 'Red', label = 'Churn')"
   ]
  },
  {
   "cell_type": "markdown",
   "metadata": {},
   "source": [
    "Monday to Sunday the usage patterns are not too different for both the churned and non-churned users."
   ]
  },
  {
   "cell_type": "code",
   "execution_count": 29,
   "metadata": {},
   "outputs": [
    {
     "data": {
      "image/png": "[encoded data removed]",
      "text/plain": [
       "<matplotlib.figure.Figure at 0x7f5cc4b87d68>"
      ]
     },
     "metadata": {
      "needs_background": "light"
     },
     "output_type": "display_data"
    }
   ],
   "source": [
    "# After how long does a user churn once he has registered?\n",
    "lifetime_pd = df_final \\\n",
    "    .select('userId','registration','ts','churn') \\\n",
    "    .withColumn('lifetime',((df_final.ts-df_final.registration)/1000/3600/24))\\\n",
    "    .groupBy('userId','churn') \\\n",
    "    .agg({'lifetime':'max'}) \\\n",
    "    .withColumnRenamed('max(lifetime)','lifetime') \\\n",
    "    .select('userId', 'churn', 'lifetime')\\\n",
    "    .toPandas()\n",
    "\n",
    "ax = sns.boxplot(data = lifetime_pd, y = 'churn', x = 'lifetime', orient='h')\n",
    "plt.xlabel('Days Since Registration')\n",
    "plt.ylabel('User Churn: True or Flase')\n",
    "plt.title('No. of Days Service was used')\n",
    "sns.despine(ax=ax);"
   ]
  },
  {
   "cell_type": "markdown",
   "metadata": {},
   "source": [
    "Users who churn, use the service for a shorter time compared to continuining users. It could be because the users realize it quick that they are not liking the service and churn."
   ]
  },
  {
   "cell_type": "markdown",
   "metadata": {},
   "source": [
    "# Feature Engineering\n",
    "Once you've familiarized yourself with the data, build out the features you find promising to train your model on. To work with the full dataset, you can follow the following steps.\n",
    "- Write a script to extract the necessary features from the smaller subset of data\n",
    "- Ensure that your script is scalable, using the best practices discussed in Lesson 3\n",
    "- Try your script on the full data set, debugging your script if necessary\n",
    "\n",
    "If you are working in the classroom workspace, you can just extract features based on the small subset of data contained here. Be sure to transfer over this work to the larger dataset when you work on your Spark cluster."
   ]
  },
  {
   "cell_type": "markdown",
   "metadata": {},
   "source": [
    "#### We will create the following features for our analysis\n",
    " - User Gender (Male of Female)\n",
    " - User Level (Paid or Free)\n",
    " - No. of days since Registration\n",
    " - Total Listening Time\n",
    " - Duration of Sessions (Min, Max and Avg)\n",
    " - No. of songs per Session\n",
    " - Total number of Sessions\n",
    " - Count of distinct artists listened to\n",
    " - Churn (the Y variable)\n",
    " - Like (Thumbs up/down)\n",
    " - Number of songs added to the playlist\n",
    " - Number of InviteFriends"
   ]
  },
  {
   "cell_type": "markdown",
   "metadata": {},
   "source": [
    "Feature 1: User Gender - Male or Female"
   ]
  },
  {
   "cell_type": "code",
   "execution_count": 30,
   "metadata": {},
   "outputs": [
    {
     "data": {
      "text/plain": [
       "DataFrame[userId: string, gender: int]"
      ]
     },
     "execution_count": 30,
     "metadata": {},
     "output_type": "execute_result"
    }
   ],
   "source": [
    "user_gender = df_final.select(\"userId\", \"gender\")\\\n",
    "            .dropDuplicates()\\\n",
    "            .replace([\"M\", \"F\"], [\"0\", \"1\"], \"gender\")\\\n",
    "            .select(\"userId\", col(\"gender\").cast(\"int\"))\n",
    "\n",
    "user_gender.fillna(0)"
   ]
  },
  {
   "cell_type": "markdown",
   "metadata": {},
   "source": [
    "Feature 2: User Level - Paid or Free"
   ]
  },
  {
   "cell_type": "code",
   "execution_count": 31,
   "metadata": {},
   "outputs": [
    {
     "data": {
      "text/plain": [
       "DataFrame[userId: string, level: int]"
      ]
     },
     "execution_count": 31,
     "metadata": {},
     "output_type": "execute_result"
    }
   ],
   "source": [
    "user_paid = df_final.groupby(\"userId\", \"level\").agg(max(df_final.ts).alias(\"finaltime\")).sort(\"userId\")\n",
    "user_recent_level_time = user_paid.groupby(\"userId\").agg(max(user_paid.finaltime).alias(\"recent\"))\n",
    "\n",
    "user_recent_level = user_recent_level_time.join(user_paid, [user_paid.userId == user_recent_level_time.userId, user_recent_level_time.recent == user_paid.finaltime]).select(user_paid.userId, \"level\").sort(\"userId\")\n",
    "user_recent_level = user_recent_level.replace([\"free\", \"paid\"], [\"0\", \"1\"], \"level\")\n",
    "user_recent_level = user_recent_level.select(\"userId\", user_recent_level.level.cast(\"int\"))\n",
    "\n",
    "user_recent_level.fillna(0)"
   ]
  },
  {
   "cell_type": "markdown",
   "metadata": {},
   "source": [
    "Feature 3: No. of days since Registration"
   ]
  },
  {
   "cell_type": "code",
   "execution_count": 32,
   "metadata": {},
   "outputs": [
    {
     "data": {
      "text/plain": [
       "DataFrame[userId: string, regdays: double]"
      ]
     },
     "execution_count": 32,
     "metadata": {},
     "output_type": "execute_result"
    }
   ],
   "source": [
    "user_max_ts = df_final.groupby(\"userId\").max(\"ts\").sort(\"userId\")\n",
    "user_reg_ts = df_final.select(\"userId\", \"registration\").dropDuplicates().sort(\"userId\")\n",
    "\n",
    "user_reg_days = user_reg_ts.join(user_max_ts, user_reg_ts.userId == user_max_ts.userId).select(user_reg_ts[\"userId\"], ((user_max_ts[\"max(ts)\"]-user_reg_ts[\"registration\"])/(1000*60*60*24)).alias(\"regdays\"))\n",
    "\n",
    "user_reg_days.fillna(0)"
   ]
  },
  {
   "cell_type": "markdown",
   "metadata": {},
   "source": [
    "Feature 4: Total Listening Time"
   ]
  },
  {
   "cell_type": "code",
   "execution_count": 33,
   "metadata": {},
   "outputs": [
    {
     "data": {
      "text/plain": [
       "DataFrame[userId: string, listen_time: double]"
      ]
     },
     "execution_count": 33,
     "metadata": {},
     "output_type": "execute_result"
    }
   ],
   "source": [
    "listening_time = df_final \\\n",
    "    .select('userId','length') \\\n",
    "    .groupBy('userId') \\\n",
    "    .sum() \\\n",
    "    .withColumnRenamed('sum(length)', 'listen_time')\n",
    "\n",
    "listening_time.fillna(0)"
   ]
  },
  {
   "cell_type": "markdown",
   "metadata": {},
   "source": [
    "Feature 5: Duration of Sessions (Min, Max and Avg)"
   ]
  },
  {
   "cell_type": "code",
   "execution_count": 34,
   "metadata": {},
   "outputs": [],
   "source": [
    "session_time = df_final.groupby(\"userId\", \"sessionId\")\\\n",
    "                    .agg(((max(df_final.ts)-min(df_final.ts))/(1000*60)).alias(\"sessiontime\"))"
   ]
  },
  {
   "cell_type": "code",
   "execution_count": 35,
   "metadata": {},
   "outputs": [
    {
     "data": {
      "text/plain": [
       "DataFrame[userId: string, avgsessiontime: double, minsessiontime: double, maxsessiontime: double]"
      ]
     },
     "execution_count": 35,
     "metadata": {},
     "output_type": "execute_result"
    }
   ],
   "source": [
    "stats_session_time = session_time.groupby(\"userId\")\\\n",
    "                        .agg(avg(session_time.sessiontime).alias(\"avgsessiontime\"), min(session_time.sessiontime).alias(\"minsessiontime\"), max(session_time.sessiontime).alias(\"maxsessiontime\"))\n",
    "\n",
    "\n",
    "stats_session_time.fillna(0)"
   ]
  },
  {
   "cell_type": "markdown",
   "metadata": {},
   "source": [
    "Feature 6: No. of Songs per Session"
   ]
  },
  {
   "cell_type": "code",
   "execution_count": 36,
   "metadata": {},
   "outputs": [],
   "source": [
    "songs_per_session = df_final.filter(df_final.page == \"NextSong\")\\\n",
    "                    .groupby(\"userId\", \"sessionId\")\\\n",
    "                    .count()"
   ]
  },
  {
   "cell_type": "code",
   "execution_count": 37,
   "metadata": {},
   "outputs": [
    {
     "data": {
      "text/plain": [
       "DataFrame[userId: string, avgsongspersession: double]"
      ]
     },
     "execution_count": 37,
     "metadata": {},
     "output_type": "execute_result"
    }
   ],
   "source": [
    "songs_per_session_avg = songs_per_session.groupby(\"userId\")\\\n",
    "                        .agg(avg(songs_per_session[\"count\"]).alias(\"avgsongspersession\"))\n",
    "songs_per_session_avg.fillna(0)"
   ]
  },
  {
   "cell_type": "markdown",
   "metadata": {},
   "source": [
    "Feature 7: Total number of Sessions"
   ]
  },
  {
   "cell_type": "code",
   "execution_count": 38,
   "metadata": {},
   "outputs": [
    {
     "data": {
      "text/plain": [
       "DataFrame[userId: string, totalsessions: bigint]"
      ]
     },
     "execution_count": 38,
     "metadata": {},
     "output_type": "execute_result"
    }
   ],
   "source": [
    "total_session = df_final.select(\"userId\", \"sessionId\")\\\n",
    "                    .dropDuplicates()\\\n",
    "                    .groupby(\"userId\")\\\n",
    "                    .count()\\\n",
    "                    .withColumnRenamed(\"count\", \"totalsessions\")\n",
    "\n",
    "total_session.fillna(0)"
   ]
  },
  {
   "cell_type": "markdown",
   "metadata": {},
   "source": [
    "Feature 8: Count of distinct artists listened to"
   ]
  },
  {
   "cell_type": "code",
   "execution_count": 39,
   "metadata": {},
   "outputs": [
    {
     "data": {
      "text/plain": [
       "DataFrame[userId: string, count_artists: bigint]"
      ]
     },
     "execution_count": 39,
     "metadata": {},
     "output_type": "execute_result"
    }
   ],
   "source": [
    "count_artists = df_final.filter(df_final.page == \"NextSong\") \\\n",
    "                    .select(\"userId\", \"artist\") \\\n",
    "                    .dropDuplicates() \\\n",
    "                    .groupby(\"userId\") \\\n",
    "                    .count() \\\n",
    "                    .withColumnRenamed(\"count\", \"count_artists\")\n",
    "\n",
    "count_artists.fillna(0)"
   ]
  },
  {
   "cell_type": "markdown",
   "metadata": {},
   "source": [
    "Feature 9: Churn (the Y variable)"
   ]
  },
  {
   "cell_type": "code",
   "execution_count": 40,
   "metadata": {},
   "outputs": [
    {
     "data": {
      "text/plain": [
       "DataFrame[userId: string, churn_label: int]"
      ]
     },
     "execution_count": 40,
     "metadata": {},
     "output_type": "execute_result"
    }
   ],
   "source": [
    "churn_label = df_final.select(\"userId\", col(\"churn\").cast(\"int\").alias(\"churn_label\")).dropDuplicates()\n",
    "\n",
    "churn_label.fillna(0)"
   ]
  },
  {
   "cell_type": "markdown",
   "metadata": {},
   "source": [
    "Feature 10: Like (Thumbs up/down)"
   ]
  },
  {
   "cell_type": "code",
   "execution_count": 41,
   "metadata": {},
   "outputs": [
    {
     "data": {
      "text/plain": [
       "DataFrame[userId: string, thumbs_down: bigint]"
      ]
     },
     "execution_count": 41,
     "metadata": {},
     "output_type": "execute_result"
    }
   ],
   "source": [
    "thumbs_up = df_final.select('userId','page') \\\n",
    "                .where(df_final.page == 'Thumbs Up') \\\n",
    "                .groupBy('userId') \\\n",
    "                .count() \\\n",
    "                .withColumnRenamed('count', 'thumbs_up') \n",
    "\n",
    "thumbs_down = df_final.select('userId','page') \\\n",
    "                .where(df_final.page == 'Thumbs Down') \\\n",
    "                .groupBy('userId') \\\n",
    "                .count() \\\n",
    "                .withColumnRenamed('count', 'thumbs_down') \n",
    "\n",
    "thumbs_up.fillna(0)\n",
    "thumbs_down.fillna(0)"
   ]
  },
  {
   "cell_type": "markdown",
   "metadata": {},
   "source": [
    "Feature 11: Number of songs added to the playlist"
   ]
  },
  {
   "cell_type": "code",
   "execution_count": 42,
   "metadata": {},
   "outputs": [
    {
     "data": {
      "text/plain": [
       "DataFrame[userId: string, adds_to_playlist: bigint]"
      ]
     },
     "execution_count": 42,
     "metadata": {},
     "output_type": "execute_result"
    }
   ],
   "source": [
    "adds_to_playlist = df_final.select('userId','page') \\\n",
    "                    .where(df_final.page == 'Add to Playlist') \\\n",
    "                    .groupBy('userId') \\\n",
    "                    .count() \\\n",
    "                    .withColumnRenamed('count', 'adds_to_playlist')\n",
    "\n",
    "adds_to_playlist.fillna(0)"
   ]
  },
  {
   "cell_type": "markdown",
   "metadata": {},
   "source": [
    "Feature 12: Number of InviteFriends"
   ]
  },
  {
   "cell_type": "code",
   "execution_count": 43,
   "metadata": {},
   "outputs": [
    {
     "data": {
      "text/plain": [
       "DataFrame[userId: string, friend_invites: bigint]"
      ]
     },
     "execution_count": 43,
     "metadata": {},
     "output_type": "execute_result"
    }
   ],
   "source": [
    "friend_invites = df_final.select('userId','page') \\\n",
    "                    .where(df_final.page == 'Add Friend') \\\n",
    "                    .groupBy('userId') \\\n",
    "                    .count() \\\n",
    "                    .withColumnRenamed('count', 'friend_invites') \n",
    "friend_invites.fillna(0)"
   ]
  },
  {
   "cell_type": "markdown",
   "metadata": {},
   "source": [
    "Merging all the dataframes together."
   ]
  },
  {
   "cell_type": "code",
   "execution_count": 44,
   "metadata": {},
   "outputs": [],
   "source": [
    "# first we will put all the dataframes with features into a list\n",
    "list_of_features = []\n",
    "list_of_features.append(user_gender)\n",
    "list_of_features.append(user_recent_level)\n",
    "list_of_features.append(user_reg_days)\n",
    "list_of_features.append(listening_time)\n",
    "list_of_features.append(stats_session_time)\n",
    "list_of_features.append(songs_per_session_avg)\n",
    "list_of_features.append(total_session)\n",
    "list_of_features.append(count_artists)\n",
    "list_of_features.append(churn_label)\n",
    "list_of_features.append(thumbs_up)\n",
    "list_of_features.append(thumbs_down)\n",
    "list_of_features.append(adds_to_playlist)\n",
    "list_of_features.append(friend_invites)"
   ]
  },
  {
   "cell_type": "code",
   "execution_count": 45,
   "metadata": {},
   "outputs": [],
   "source": [
    "# we will now create a dataframe with the list of userIds to merge all the features with\n",
    "df_userId = df_final.select(\"userId\").dropDuplicates()"
   ]
  },
  {
   "cell_type": "code",
   "execution_count": 46,
   "metadata": {},
   "outputs": [],
   "source": [
    "# as there are lot of dataframes we will write a function which can merge all of these dataframes together\n",
    "\n",
    "def merge_features(df1, df2):\n",
    "    \"\"\"\n",
    "    Function to merge the features dataframe using left join\n",
    "    input: dataframes to be merged\n",
    "    output: merged dataframe\n",
    "    \"\"\"\n",
    "    df2 = df2.withColumnRenamed(\"userId\", \"userIdTemp\")\n",
    "    df = df1.join(df2, df1.userId == df2.userIdTemp, \"left\").drop(\"userIdTemp\")\n",
    "    return df"
   ]
  },
  {
   "cell_type": "code",
   "execution_count": 47,
   "metadata": {},
   "outputs": [],
   "source": [
    "# using the function in a for loop to merge all the features in the list of features\n",
    "\n",
    "for feature in list_of_features:\n",
    "    df_userId = merge_features(df_userId, feature)"
   ]
  },
  {
   "cell_type": "code",
   "execution_count": 48,
   "metadata": {},
   "outputs": [
    {
     "name": "stdout",
     "output_type": "stream",
     "text": [
      "+------+------+-----+------------------+------------------+------------------+-----------------+------------------+------------------+-------------+-------------+-----------+---------+-----------+----------------+--------------+\n",
      "|userId|gender|level|           regdays|       listen_time|    avgsessiontime|   minsessiontime|    maxsessiontime|avgsongspersession|totalsessions|count_artists|churn_label|thumbs_up|thumbs_down|adds_to_playlist|friend_invites|\n",
      "+------+------+-----+------------------+------------------+------------------+-----------------+------------------+------------------+-------------+-------------+-----------+---------+-----------+----------------+--------------+\n",
      "|    10|     0|    1| 51.76265046296297|166866.37251000004|459.74722222222226|91.41666666666667|1547.9166666666667|112.16666666666667|            6|          565|          0|       37|          4|               9|            12|\n",
      "|   100|     0|    1| 64.87377314814815|  672877.856590001| 316.5190476190476|              0.0|1019.5833333333334| 78.88235294117646|           35|         1705|          0|      148|         27|              61|            49|\n",
      "|100001|     1|    0| 44.80021990740741|35073.742150000005|148.15833333333333|             63.0|215.28333333333333|             33.25|            4|          125|          1|        8|          2|               3|             2|\n",
      "|100002|     1|    1|160.47207175925925| 49559.91809999999|201.18333333333334|              0.0| 730.4666666666667|             48.75|            4|          184|          0|        5|       null|               5|             1|\n",
      "|100003|     1|    0|22.748113425925926|12306.419320000003| 99.11666666666667|3.216666666666667|195.01666666666668|              25.5|            2|           50|          1|        3|       null|               2|          null|\n",
      "+------+------+-----+------------------+------------------+------------------+-----------------+------------------+------------------+-------------+-------------+-----------+---------+-----------+----------------+--------------+\n",
      "only showing top 5 rows\n",
      "\n"
     ]
    }
   ],
   "source": [
    "# creating the final dataframe for modeling\n",
    "\n",
    "df_model = df_userId.sort(\"userId\")"
   ]
  },
  {
   "cell_type": "code",
   "execution_count": 49,
   "metadata": {},
   "outputs": [
    {
     "data": {
      "text/plain": [
       "DataFrame[userId: string, gender: int, level: int, regdays: double, listen_time: double, avgsessiontime: double, minsessiontime: double, maxsessiontime: double, avgsongspersession: double, totalsessions: bigint, count_artists: bigint, churn_label: int, thumbs_up: bigint, thumbs_down: bigint, adds_to_playlist: bigint, friend_invites: bigint]"
      ]
     },
     "execution_count": 49,
     "metadata": {},
     "output_type": "execute_result"
    }
   ],
   "source": [
    "df_model.persist()"
   ]
  },
  {
   "cell_type": "code",
   "execution_count": 50,
   "metadata": {},
   "outputs": [
    {
     "name": "stdout",
     "output_type": "stream",
     "text": [
      "+------+------+-----+-----------------+------------------+------------------+-----------------+------------------+------------------+-------------+-------------+-----------+---------+-----------+----------------+--------------+\n",
      "|userId|gender|level|          regdays|       listen_time|    avgsessiontime|   minsessiontime|    maxsessiontime|avgsongspersession|totalsessions|count_artists|churn_label|thumbs_up|thumbs_down|adds_to_playlist|friend_invites|\n",
      "+------+------+-----+-----------------+------------------+------------------+-----------------+------------------+------------------+-------------+-------------+-----------+---------+-----------+----------------+--------------+\n",
      "|    10|     0|    1|51.76265046296297|166866.37251000004|459.74722222222226|91.41666666666667|1547.9166666666667|112.16666666666667|            6|          565|          0|       37|          4|               9|            12|\n",
      "+------+------+-----+-----------------+------------------+------------------+-----------------+------------------+------------------+-------------+-------------+-----------+---------+-----------+----------------+--------------+\n",
      "only showing top 1 row\n",
      "\n"
     ]
    }
   ],
   "source": [
    "df_model.show(1)"
   ]
  },
  {
   "cell_type": "markdown",
   "metadata": {},
   "source": [
    "Saving the dataframe as a CSV to run models in future sessions."
   ]
  },
  {
   "cell_type": "code",
   "execution_count": 53,
   "metadata": {},
   "outputs": [],
   "source": [
    "# creating a path\n",
    "out_path = \"data/sparkify_model_data.csv\"\n",
    "\n",
    "#saving the csv\n",
    "df_model.write.save(out_path, format=\"csv\", header=True)"
   ]
  },
  {
   "cell_type": "markdown",
   "metadata": {},
   "source": [
    "# Modeling\n",
    "Split the full dataset into train, test, and validation sets. Test out several of the machine learning methods you learned. Evaluate the accuracy of the various models, tuning parameters as necessary. Determine your winning model based on test accuracy and report results on the validation set. Since the churned users are a fairly small subset, I suggest using F1 score as the metric to optimize."
   ]
  },
  {
   "cell_type": "code",
   "execution_count": 73,
   "metadata": {},
   "outputs": [],
   "source": [
    "# reading the csv\n",
    "out_path = \"data/sparkify_model_data.csv\"\n",
    "data = spark.read.csv(out_path, header=True)"
   ]
  },
  {
   "cell_type": "code",
   "execution_count": 74,
   "metadata": {},
   "outputs": [
    {
     "data": {
      "text/plain": [
       "DataFrame[userId: string, gender: string, level: string, regdays: string, listen_time: string, avgsessiontime: string, minsessiontime: string, maxsessiontime: string, avgsongspersession: string, totalsessions: string, count_artists: string, churn_label: string, thumbs_up: string, thumbs_down: string, adds_to_playlist: string, friend_invites: string]"
      ]
     },
     "execution_count": 74,
     "metadata": {},
     "output_type": "execute_result"
    }
   ],
   "source": [
    "data.persist()"
   ]
  },
  {
   "cell_type": "markdown",
   "metadata": {},
   "source": [
    "All the columns are read as strings converting the columns which ideally should be numeric to numeric"
   ]
  },
  {
   "cell_type": "code",
   "execution_count": 75,
   "metadata": {},
   "outputs": [],
   "source": [
    "feature_list = data.columns[1:]\n",
    "for fl in feature_list:\n",
    "    fl_name = fl + \"Num\"\n",
    "    data = data.withColumn(fl_name, data[fl].cast(\"float\"))\n",
    "    data = data.drop(fl)"
   ]
  },
  {
   "cell_type": "code",
   "execution_count": 76,
   "metadata": {},
   "outputs": [
    {
     "data": {
      "text/plain": [
       "DataFrame[userId: string, genderNum: float, levelNum: float, regdaysNum: float, listen_timeNum: float, avgsessiontimeNum: float, minsessiontimeNum: float, maxsessiontimeNum: float, avgsongspersessionNum: float, totalsessionsNum: float, count_artistsNum: float, churn_labelNum: float, thumbs_upNum: float, thumbs_downNum: float, adds_to_playlistNum: float, friend_invitesNum: float]"
      ]
     },
     "execution_count": 76,
     "metadata": {},
     "output_type": "execute_result"
    }
   ],
   "source": [
    "data.persist()"
   ]
  },
  {
   "cell_type": "code",
   "execution_count": 77,
   "metadata": {},
   "outputs": [
    {
     "name": "stdout",
     "output_type": "stream",
     "text": [
      "+------+---------+--------+----------+--------------+-----------------+-----------------+-----------------+---------------------+----------------+----------------+--------------+------------+--------------+-------------------+-----------------+\n",
      "|userId|genderNum|levelNum|regdaysNum|listen_timeNum|avgsessiontimeNum|minsessiontimeNum|maxsessiontimeNum|avgsongspersessionNum|totalsessionsNum|count_artistsNum|churn_labelNum|thumbs_upNum|thumbs_downNum|adds_to_playlistNum|friend_invitesNum|\n",
      "+------+---------+--------+----------+--------------+-----------------+-----------------+-----------------+---------------------+----------------+----------------+--------------+------------+--------------+-------------------+-----------------+\n",
      "|300009|      1.0|     1.0|101.224106|      357535.7|        326.64444|        11.633333|          1955.75|             79.27778|            18.0|          1025.0|           0.0|       132.0|          15.0|               44.0|             21.0|\n",
      "|300010|      0.0|     0.0|  74.17874|      65846.45|        155.42857|        13.683333|           330.95|             37.57143|             7.0|           244.0|           0.0|        21.0|           1.0|                7.0|              8.0|\n",
      "|    10|      0.0|     1.0|  51.76265|     166866.38|        459.74722|        91.416664|        1547.9166|           112.166664|             6.0|           565.0|           0.0|        37.0|           4.0|                9.0|             12.0|\n",
      "|   100|      0.0|     1.0|  64.87377|      672877.9|        316.51904|              0.0|        1019.5833|            78.882355|            35.0|          1705.0|           0.0|       148.0|          27.0|               61.0|             49.0|\n",
      "|100017|      0.0|     0.0|  78.88441|     12261.724|        199.26666|        199.26666|        199.26666|                 52.0|             1.0|            51.0|           1.0|         2.0|           1.0|                1.0|             null|\n",
      "+------+---------+--------+----------+--------------+-----------------+-----------------+-----------------+---------------------+----------------+----------------+--------------+------------+--------------+-------------------+-----------------+\n",
      "only showing top 5 rows\n",
      "\n"
     ]
    }
   ],
   "source": [
    "data.show(5)"
   ]
  },
  {
   "cell_type": "markdown",
   "metadata": {},
   "source": [
    "There are nulls in the data. We will look at where these nulls are coming from and then fill these null values with 0."
   ]
  },
  {
   "cell_type": "code",
   "execution_count": 78,
   "metadata": {},
   "outputs": [],
   "source": [
    "df = data.toPandas()"
   ]
  },
  {
   "cell_type": "code",
   "execution_count": 79,
   "metadata": {},
   "outputs": [
    {
     "data": {
      "text/plain": [
       "userId                    0\n",
       "genderNum                 0\n",
       "levelNum                  0\n",
       "regdaysNum                0\n",
       "listen_timeNum            0\n",
       "avgsessiontimeNum         0\n",
       "minsessiontimeNum         0\n",
       "maxsessiontimeNum         0\n",
       "avgsongspersessionNum     0\n",
       "totalsessionsNum          0\n",
       "count_artistsNum          0\n",
       "churn_labelNum            0\n",
       "thumbs_upNum              5\n",
       "thumbs_downNum           22\n",
       "adds_to_playlistNum      10\n",
       "friend_invitesNum        19\n",
       "dtype: int64"
      ]
     },
     "execution_count": 79,
     "metadata": {},
     "output_type": "execute_result"
    }
   ],
   "source": [
    "df.isnull().sum()"
   ]
  },
  {
   "cell_type": "code",
   "execution_count": 80,
   "metadata": {},
   "outputs": [],
   "source": [
    "data = data.na.fill(0)"
   ]
  },
  {
   "cell_type": "code",
   "execution_count": 81,
   "metadata": {},
   "outputs": [
    {
     "data": {
      "text/plain": [
       "userId                   0\n",
       "genderNum                0\n",
       "levelNum                 0\n",
       "regdaysNum               0\n",
       "listen_timeNum           0\n",
       "avgsessiontimeNum        0\n",
       "minsessiontimeNum        0\n",
       "maxsessiontimeNum        0\n",
       "avgsongspersessionNum    0\n",
       "totalsessionsNum         0\n",
       "count_artistsNum         0\n",
       "churn_labelNum           0\n",
       "thumbs_upNum             0\n",
       "thumbs_downNum           0\n",
       "adds_to_playlistNum      0\n",
       "friend_invitesNum        0\n",
       "dtype: int64"
      ]
     },
     "execution_count": 81,
     "metadata": {},
     "output_type": "execute_result"
    }
   ],
   "source": [
    "df = data.toPandas()\n",
    "df.isnull().sum()"
   ]
  },
  {
   "cell_type": "code",
   "execution_count": 82,
   "metadata": {},
   "outputs": [
    {
     "data": {
      "text/plain": [
       "['userId',\n",
       " 'genderNum',\n",
       " 'levelNum',\n",
       " 'regdaysNum',\n",
       " 'listen_timeNum',\n",
       " 'avgsessiontimeNum',\n",
       " 'minsessiontimeNum',\n",
       " 'maxsessiontimeNum',\n",
       " 'avgsongspersessionNum',\n",
       " 'totalsessionsNum',\n",
       " 'count_artistsNum',\n",
       " 'churn_labelNum',\n",
       " 'thumbs_upNum',\n",
       " 'thumbs_downNum',\n",
       " 'adds_to_playlistNum',\n",
       " 'friend_invitesNum']"
      ]
     },
     "execution_count": 82,
     "metadata": {},
     "output_type": "execute_result"
    }
   ],
   "source": [
    "data.columns"
   ]
  },
  {
   "cell_type": "code",
   "execution_count": 83,
   "metadata": {},
   "outputs": [],
   "source": [
    "# Now we need to vectorize our features\n",
    "\n",
    "features = ['genderNum', 'levelNum', 'regdaysNum', 'listen_timeNum', 'avgsessiontimeNum', 'minsessiontimeNum',\\\n",
    "            'maxsessiontimeNum', 'avgsongspersessionNum', 'totalsessionsNum', 'count_artistsNum', 'thumbs_upNum',\\\n",
    "            'thumbs_downNum', 'adds_to_playlistNum', 'friend_invitesNum']\n",
    "feature_assembler = VectorAssembler(inputCols = features, outputCol = \"NumFeatures\")\n",
    "data = feature_assembler.transform(data)"
   ]
  },
  {
   "cell_type": "code",
   "execution_count": 84,
   "metadata": {},
   "outputs": [],
   "source": [
    "# Using the Standard Scaler to standardize features\n",
    "\n",
    "feature_scaler = StandardScaler(inputCol = \"NumFeatures\", outputCol = \"features\", withStd = True)\n",
    "scaled = feature_scaler.fit(data)\n",
    "data = scaled.transform(data)"
   ]
  },
  {
   "cell_type": "code",
   "execution_count": 86,
   "metadata": {},
   "outputs": [],
   "source": [
    "# to run logistic regression model we need to convert the name of the churn variable to label\n",
    "\n",
    "data = data.select(data.churn_labelNum.alias(\"label\"), \"features\")"
   ]
  },
  {
   "cell_type": "code",
   "execution_count": 87,
   "metadata": {},
   "outputs": [
    {
     "name": "stdout",
     "output_type": "stream",
     "text": [
      "+-----+-----+\n",
      "|label|count|\n",
      "+-----+-----+\n",
      "|  1.0|   52|\n",
      "|  0.0|  173|\n",
      "+-----+-----+\n",
      "\n"
     ]
    }
   ],
   "source": [
    "data.groupby(\"label\").count().show()"
   ]
  },
  {
   "cell_type": "code",
   "execution_count": 88,
   "metadata": {},
   "outputs": [],
   "source": [
    "# converting the label column to int\n",
    "data = data.select(col(\"label\").cast(\"int\"),\"features\")"
   ]
  },
  {
   "cell_type": "code",
   "execution_count": 89,
   "metadata": {},
   "outputs": [
    {
     "name": "stdout",
     "output_type": "stream",
     "text": [
      "+-----+-----+\n",
      "|label|count|\n",
      "+-----+-----+\n",
      "|    1|   52|\n",
      "|    0|  173|\n",
      "+-----+-----+\n",
      "\n"
     ]
    }
   ],
   "source": [
    "data.groupby(\"label\").count().show()"
   ]
  },
  {
   "cell_type": "code",
   "execution_count": 90,
   "metadata": {},
   "outputs": [],
   "source": [
    "# creating the train test split\n",
    "train, test = data.randomSplit([0.7, 0.3], seed=42)"
   ]
  },
  {
   "cell_type": "markdown",
   "metadata": {},
   "source": [
    "#### We will try below ML models for this analysis\n",
    " - DecisionTree\n",
    " - Logistic Regression\n",
    " - Gradient Boosted Trees\n",
    " - Random Forest\n",
    " - Linear SVM"
   ]
  },
  {
   "cell_type": "code",
   "execution_count": 91,
   "metadata": {},
   "outputs": [],
   "source": [
    "# to make it easier to run, we will first write a function to run models in one go.\n",
    "\n",
    "def create_model(model_name):\n",
    "    model = model_name()\n",
    "\n",
    "    model_fit = model.fit(train)\n",
    "     \n",
    "    results = model_fit.transform(test)\n",
    "    evaluation = MulticlassClassificationEvaluator(predictionCol = \"prediction\")\n",
    "    \n",
    "    print('Model Run Successfully; Looking at metrics for', model_name, 'model:')\n",
    "    print('Accuracy: {}'.format(evaluation.evaluate(results, {evaluation.metricName: \"accuracy\"})))\n",
    "    print('F-1 Score:{}'.format(evaluation.evaluate(results, {evaluation.metricName: \"f1\"})))"
   ]
  },
  {
   "cell_type": "code",
   "execution_count": 92,
   "metadata": {},
   "outputs": [
    {
     "name": "stdout",
     "output_type": "stream",
     "text": [
      "Model Run Successfully; Looking at metrics for <class 'pyspark.ml.classification.LogisticRegression'> model:\n",
      "Accuracy: 0.7777777777777778\n",
      "F-1 Score:0.7559454191033138\n"
     ]
    }
   ],
   "source": [
    "create_model(LogisticRegression)"
   ]
  },
  {
   "cell_type": "code",
   "execution_count": 93,
   "metadata": {},
   "outputs": [
    {
     "name": "stdout",
     "output_type": "stream",
     "text": [
      "Model Run Successfully; Looking at metrics for <class 'pyspark.ml.classification.DecisionTreeClassifier'> model:\n",
      "Accuracy: 0.6527777777777778\n",
      "F-1 Score:0.6497081193342875\n"
     ]
    }
   ],
   "source": [
    "create_model(DecisionTreeClassifier)"
   ]
  },
  {
   "cell_type": "code",
   "execution_count": 94,
   "metadata": {},
   "outputs": [
    {
     "name": "stdout",
     "output_type": "stream",
     "text": [
      "Model Run Successfully; Looking at metrics for <class 'pyspark.ml.classification.RandomForestClassifier'> model:\n",
      "Accuracy: 0.75\n",
      "F-1 Score:0.6916666666666667\n"
     ]
    }
   ],
   "source": [
    "create_model(RandomForestClassifier)"
   ]
  },
  {
   "cell_type": "code",
   "execution_count": 95,
   "metadata": {},
   "outputs": [
    {
     "name": "stdout",
     "output_type": "stream",
     "text": [
      "Model Run Successfully; Looking at metrics for <class 'pyspark.ml.classification.GBTClassifier'> model:\n",
      "Accuracy: 0.6527777777777778\n",
      "F-1 Score:0.6497081193342875\n"
     ]
    }
   ],
   "source": [
    "create_model(GBTClassifier)"
   ]
  },
  {
   "cell_type": "code",
   "execution_count": 97,
   "metadata": {},
   "outputs": [
    {
     "name": "stdout",
     "output_type": "stream",
     "text": [
      "Model Run Successfully; Looking at metrics for <class 'pyspark.ml.classification.LinearSVC'> model:\n",
      "Accuracy: 0.7361111111111112\n",
      "F-1 Score:0.6242222222222222\n"
     ]
    }
   ],
   "source": [
    "create_model(LinearSVC)"
   ]
  },
  {
   "cell_type": "markdown",
   "metadata": {},
   "source": [
    "Summarizing the results of the different models below:\n",
    "\n",
    " - Logistic Regression has an accuracy of: 0.7778 , and F1 score of:0.7559\n",
    " - Decision Tree Classifier has an accuracy of: 0.6528 , and F1 score of:0.6497\n",
    " - Random Forest Classifier has an accuracy of: 0.75 , and F1 score of:0.6917\n",
    " - Gradient Boosted Trees Classifier has an accuracy of: 0.6528 , and F1 score of:0.6497\n",
    " - Linear SVM Classifier has an accuracy of: 0.7361 , and F1 score of:0.6242"
   ]
  },
  {
   "cell_type": "markdown",
   "metadata": {},
   "source": [
    "Surprisingly, Logistic Regression performs the best among the 5 classifier tried. <br>\n",
    "Explanations for this could be:\n",
    " - The data is distributed in a fashion such that it can be easily linearly classified \n",
    " - The signal to noise ratio is low\n",
    " \n",
    "We feel the latter could be the case here as we only have limited data. If we use the entire dataset most likely we will have the RF or the GBT performing better. <br>\n",
    "Also, Decision Tree Classifier and GBT Classifier had exactly the same F1 and Accuracy scores."
   ]
  },
  {
   "cell_type": "markdown",
   "metadata": {},
   "source": [
    "#### We will try Hyperparameter tuning to improve the performance of our best model i.e. Logistic Regression"
   ]
  },
  {
   "cell_type": "code",
   "execution_count": 100,
   "metadata": {},
   "outputs": [
    {
     "name": "stdout",
     "output_type": "stream",
     "text": [
      "Metrics for Logistic Regression Classifier after Hypertuning the Parameters\n",
      "Accuracy: 0.7777777777777778\n",
      "F-1 Score:0.7476737821565407\n"
     ]
    }
   ],
   "source": [
    "model = LogisticRegression()\n",
    "\n",
    "param_grid = ParamGridBuilder() \\\n",
    "    .addGrid(model.regParam,[0.01, 0.1, 0.5]) \\\n",
    "    .addGrid(model.elasticNetParam,[0.0, 0.05, 0.01]) \\\n",
    "    .addGrid(model.aggregationDepth,[2, 5]) \\\n",
    "    .build()\n",
    "\n",
    "cross_val = CrossValidator(estimator = model,\n",
    "                          estimatorParamMaps = param_grid,\n",
    "                          evaluator = MulticlassClassificationEvaluator(),\n",
    "                          numFolds = 3)\n",
    "\n",
    "model_fit = cross_val.fit(train)\n",
    "model_fit.avgMetrics\n",
    "    \n",
    "results = model_fit.transform(test)\n",
    "evaluation = MulticlassClassificationEvaluator(predictionCol = \"prediction\")\n",
    "    \n",
    "print('Metrics for Logistic Regression Classifier after Hypertuning the Parameters')\n",
    "print('Accuracy: {}'.format(evaluation.evaluate(results, {evaluation.metricName: \"accuracy\"})))\n",
    "print('F-1 Score:{}'.format(evaluation.evaluate(results, {evaluation.metricName: \"f1\"})))"
   ]
  },
  {
   "cell_type": "markdown",
   "metadata": {},
   "source": [
    "Even when we tune the hyperparameters, we get the same Accuracy and F1 Score. Hence, our Logistic Model is good to go ahead with."
   ]
  },
  {
   "cell_type": "code",
   "execution_count": 112,
   "metadata": {},
   "outputs": [],
   "source": [
    "# Let us get the contributions of features for our Logistic Regression Model\n",
    "coeffs = model_fit.bestModel.coefficientMatrix\n",
    "\n",
    "coeff_dict = {\n",
    "'gender':[coeffs[0,0]],\n",
    "'level': [coeffs[0,1]],\n",
    "'regdays': [coeffs[0,2]],\n",
    "'listen_time' : [coeffs[0,3]],\n",
    "'avgsessiontime': [coeffs[0,4]],\n",
    "'minsessiontime' : [coeffs[0,5]],\n",
    "'maxsessiontime' : [coeffs[0,6]],\n",
    "'avgsongspersession' : [coeffs[0,7]],\n",
    "'totalsessions' : [coeffs[0,8]],\n",
    "'count_artists' : [coeffs[0,9]],\n",
    "'thumbs_up' : [coeffs[0,10]],\n",
    "'thumbs_down' : [coeffs[0,11]],\n",
    "'adds_to_playlist' : [coeffs[0,12]],\n",
    "'friend_invites' : [coeffs[0,13]]\n",
    "    }"
   ]
  },
  {
   "cell_type": "code",
   "execution_count": 113,
   "metadata": {},
   "outputs": [
    {
     "data": {
      "text/plain": [
       "{'gender': [-0.12141411889326216],\n",
       " 'level': [0.23279891823015594],\n",
       " 'regdays': [-0.90012665732732189],\n",
       " 'listen_time': [-0.36983760307281766],\n",
       " 'avgsessiontime': [0.03034648692000453],\n",
       " 'minsessiontime': [-0.31892927612949518],\n",
       " 'maxsessiontime': [-0.48030561091940865],\n",
       " 'avgsongspersession': [-0.00011409846716281295],\n",
       " 'totalsessions': [-0.011662619037653707],\n",
       " 'count_artists': [0.015073942753318085],\n",
       " 'thumbs_up': [-0.29512798078196484],\n",
       " 'thumbs_down': [0.60940719590695258],\n",
       " 'adds_to_playlist': [-0.39516051191291868],\n",
       " 'friend_invites': [-0.31853579777512492]}"
      ]
     },
     "execution_count": 113,
     "metadata": {},
     "output_type": "execute_result"
    }
   ],
   "source": [
    "coeff_dict"
   ]
  },
  {
   "cell_type": "code",
   "execution_count": 115,
   "metadata": {},
   "outputs": [],
   "source": [
    "coeff_df = pd.DataFrame.from_dict(coeff_dict, orient = 'index', columns = [\"coeff\"])"
   ]
  },
  {
   "cell_type": "code",
   "execution_count": 116,
   "metadata": {},
   "outputs": [
    {
     "data": {
      "text/html": [
       "<div>\n",
       "<style scoped>\n",
       "    .dataframe tbody tr th:only-of-type {\n",
       "        vertical-align: middle;\n",
       "    }\n",
       "\n",
       "    .dataframe tbody tr th {\n",
       "        vertical-align: top;\n",
       "    }\n",
       "\n",
       "    .dataframe thead th {\n",
       "        text-align: right;\n",
       "    }\n",
       "</style>\n",
       "<table border=\"1\" class=\"dataframe\">\n",
       "  <thead>\n",
       "    <tr style=\"text-align: right;\">\n",
       "      <th></th>\n",
       "      <th>coeff</th>\n",
       "    </tr>\n",
       "  </thead>\n",
       "  <tbody>\n",
       "    <tr>\n",
       "      <th>gender</th>\n",
       "      <td>-0.121414</td>\n",
       "    </tr>\n",
       "    <tr>\n",
       "      <th>level</th>\n",
       "      <td>0.232799</td>\n",
       "    </tr>\n",
       "    <tr>\n",
       "      <th>regdays</th>\n",
       "      <td>-0.900127</td>\n",
       "    </tr>\n",
       "    <tr>\n",
       "      <th>listen_time</th>\n",
       "      <td>-0.369838</td>\n",
       "    </tr>\n",
       "    <tr>\n",
       "      <th>avgsessiontime</th>\n",
       "      <td>0.030346</td>\n",
       "    </tr>\n",
       "    <tr>\n",
       "      <th>minsessiontime</th>\n",
       "      <td>-0.318929</td>\n",
       "    </tr>\n",
       "    <tr>\n",
       "      <th>maxsessiontime</th>\n",
       "      <td>-0.480306</td>\n",
       "    </tr>\n",
       "    <tr>\n",
       "      <th>avgsongspersession</th>\n",
       "      <td>-0.000114</td>\n",
       "    </tr>\n",
       "    <tr>\n",
       "      <th>totalsessions</th>\n",
       "      <td>-0.011663</td>\n",
       "    </tr>\n",
       "    <tr>\n",
       "      <th>count_artists</th>\n",
       "      <td>0.015074</td>\n",
       "    </tr>\n",
       "    <tr>\n",
       "      <th>thumbs_up</th>\n",
       "      <td>-0.295128</td>\n",
       "    </tr>\n",
       "    <tr>\n",
       "      <th>thumbs_down</th>\n",
       "      <td>0.609407</td>\n",
       "    </tr>\n",
       "    <tr>\n",
       "      <th>adds_to_playlist</th>\n",
       "      <td>-0.395161</td>\n",
       "    </tr>\n",
       "    <tr>\n",
       "      <th>friend_invites</th>\n",
       "      <td>-0.318536</td>\n",
       "    </tr>\n",
       "  </tbody>\n",
       "</table>\n",
       "</div>"
      ],
      "text/plain": [
       "                       coeff\n",
       "gender             -0.121414\n",
       "level               0.232799\n",
       "regdays            -0.900127\n",
       "listen_time        -0.369838\n",
       "avgsessiontime      0.030346\n",
       "minsessiontime     -0.318929\n",
       "maxsessiontime     -0.480306\n",
       "avgsongspersession -0.000114\n",
       "totalsessions      -0.011663\n",
       "count_artists       0.015074\n",
       "thumbs_up          -0.295128\n",
       "thumbs_down         0.609407\n",
       "adds_to_playlist   -0.395161\n",
       "friend_invites     -0.318536"
      ]
     },
     "execution_count": 116,
     "metadata": {},
     "output_type": "execute_result"
    }
   ],
   "source": [
    "coeff_df"
   ]
  },
  {
   "cell_type": "code",
   "execution_count": 117,
   "metadata": {},
   "outputs": [],
   "source": [
    "coeff_df.index.name = 'Feature'"
   ]
  },
  {
   "cell_type": "code",
   "execution_count": 118,
   "metadata": {},
   "outputs": [
    {
     "data": {
      "text/html": [
       "<div>\n",
       "<style scoped>\n",
       "    .dataframe tbody tr th:only-of-type {\n",
       "        vertical-align: middle;\n",
       "    }\n",
       "\n",
       "    .dataframe tbody tr th {\n",
       "        vertical-align: top;\n",
       "    }\n",
       "\n",
       "    .dataframe thead th {\n",
       "        text-align: right;\n",
       "    }\n",
       "</style>\n",
       "<table border=\"1\" class=\"dataframe\">\n",
       "  <thead>\n",
       "    <tr style=\"text-align: right;\">\n",
       "      <th></th>\n",
       "      <th>coeff</th>\n",
       "    </tr>\n",
       "    <tr>\n",
       "      <th>Feature</th>\n",
       "      <th></th>\n",
       "    </tr>\n",
       "  </thead>\n",
       "  <tbody>\n",
       "    <tr>\n",
       "      <th>gender</th>\n",
       "      <td>-0.121414</td>\n",
       "    </tr>\n",
       "    <tr>\n",
       "      <th>level</th>\n",
       "      <td>0.232799</td>\n",
       "    </tr>\n",
       "    <tr>\n",
       "      <th>regdays</th>\n",
       "      <td>-0.900127</td>\n",
       "    </tr>\n",
       "    <tr>\n",
       "      <th>listen_time</th>\n",
       "      <td>-0.369838</td>\n",
       "    </tr>\n",
       "    <tr>\n",
       "      <th>avgsessiontime</th>\n",
       "      <td>0.030346</td>\n",
       "    </tr>\n",
       "    <tr>\n",
       "      <th>minsessiontime</th>\n",
       "      <td>-0.318929</td>\n",
       "    </tr>\n",
       "    <tr>\n",
       "      <th>maxsessiontime</th>\n",
       "      <td>-0.480306</td>\n",
       "    </tr>\n",
       "    <tr>\n",
       "      <th>avgsongspersession</th>\n",
       "      <td>-0.000114</td>\n",
       "    </tr>\n",
       "    <tr>\n",
       "      <th>totalsessions</th>\n",
       "      <td>-0.011663</td>\n",
       "    </tr>\n",
       "    <tr>\n",
       "      <th>count_artists</th>\n",
       "      <td>0.015074</td>\n",
       "    </tr>\n",
       "    <tr>\n",
       "      <th>thumbs_up</th>\n",
       "      <td>-0.295128</td>\n",
       "    </tr>\n",
       "    <tr>\n",
       "      <th>thumbs_down</th>\n",
       "      <td>0.609407</td>\n",
       "    </tr>\n",
       "    <tr>\n",
       "      <th>adds_to_playlist</th>\n",
       "      <td>-0.395161</td>\n",
       "    </tr>\n",
       "    <tr>\n",
       "      <th>friend_invites</th>\n",
       "      <td>-0.318536</td>\n",
       "    </tr>\n",
       "  </tbody>\n",
       "</table>\n",
       "</div>"
      ],
      "text/plain": [
       "                       coeff\n",
       "Feature                     \n",
       "gender             -0.121414\n",
       "level               0.232799\n",
       "regdays            -0.900127\n",
       "listen_time        -0.369838\n",
       "avgsessiontime      0.030346\n",
       "minsessiontime     -0.318929\n",
       "maxsessiontime     -0.480306\n",
       "avgsongspersession -0.000114\n",
       "totalsessions      -0.011663\n",
       "count_artists       0.015074\n",
       "thumbs_up          -0.295128\n",
       "thumbs_down         0.609407\n",
       "adds_to_playlist   -0.395161\n",
       "friend_invites     -0.318536"
      ]
     },
     "execution_count": 118,
     "metadata": {},
     "output_type": "execute_result"
    }
   ],
   "source": [
    "coeff_df"
   ]
  },
  {
   "cell_type": "code",
   "execution_count": 133,
   "metadata": {},
   "outputs": [],
   "source": [
    "coeff_df = coeff_df.reset_index()"
   ]
  },
  {
   "cell_type": "code",
   "execution_count": 127,
   "metadata": {},
   "outputs": [],
   "source": [
    "coeff_df[\"contribution\"] = coeff_df[\"coeff\"]*100 / coeff_df[\"coeff\"].abs().sum()"
   ]
  },
  {
   "cell_type": "code",
   "execution_count": 143,
   "metadata": {},
   "outputs": [
    {
     "data": {
      "image/png": "[encoded data removed]",
      "text/plain": [
       "<matplotlib.figure.Figure at 0x7f5ccee86d68>"
      ]
     },
     "metadata": {
      "needs_background": "light"
     },
     "output_type": "display_data"
    }
   ],
   "source": [
    "plt.figure(figsize=(16, 9))\n",
    "ax = sns.barplot(data = coeff_df, y = \"contribution\", x = \"Feature\")\n",
    "plt.xlabel('Features')\n",
    "plt.xticks(rotation=45)\n",
    "plt.ylabel('Contribution')\n",
    "plt.title('Feature Contribution from the Logistic Regression Model')\n",
    "sns.despine(ax=ax);"
   ]
  },
  {
   "cell_type": "code",
   "execution_count": 144,
   "metadata": {},
   "outputs": [],
   "source": [
    "coeff_df[\"importance\"] = coeff_df[\"coeff\"].abs()*100 / coeff_df[\"coeff\"].abs().max()"
   ]
  },
  {
   "cell_type": "code",
   "execution_count": 147,
   "metadata": {},
   "outputs": [
    {
     "data": {
      "image/png": "[encoded data removed]",
      "text/plain": [
       "<matplotlib.figure.Figure at 0x7f5cd0174c50>"
      ]
     },
     "metadata": {
      "needs_background": "light"
     },
     "output_type": "display_data"
    }
   ],
   "source": [
    "coeff_df = coeff_df.sort_values('importance',ascending = False)\n",
    "plt.figure(figsize=(16, 9))\n",
    "ax = sns.barplot(data = coeff_df, x = \"importance\", y = \"Feature\", orient = 'h')\n",
    "plt.xlabel('Features')\n",
    "plt.ylabel('Importance')\n",
    "plt.title('Feature Importance from the Logistic Regression Model')\n",
    "sns.despine(ax=ax);"
   ]
  },
  {
   "cell_type": "markdown",
   "metadata": {},
   "source": [
    "#### Observations from the Logistic Regression Model Outputs:\n",
    "\n",
    "The most important feature which contributes positively in predicting User likely to churn is no. of Thumbs Down by the user. So basically, if the user is not liking the songs available, he is more likely to churn.\n",
    "\n",
    "The most important feature which contributes negatively in predicting User likely to churn is no. of Days since Registration of the user which means, the older users are less likely to churn compared to recently subscribed user.\n",
    "\n",
    "If we look at the Top 5 features based on Importance:\n",
    " - No. of Days since Registration\n",
    " - No. of Thumbs Down or Dislikes\n",
    " - Maximum Session Time\n",
    " - No. of Songs added to the Playlist\n",
    " - Total Listening Time"
   ]
  },
  {
   "cell_type": "markdown",
   "metadata": {},
   "source": [
    "# Conlcusion\n",
    "\n",
    "## Summary\n",
    "\n",
    "In this notebook, we implemented models to predict user(customer) churn. <br>\n",
    "The first step in the analysis was to carry out initial data exploration, clean and data and remove rows without userIds. \n",
    "From there we first defined our Y variable or User Churn and then performed extensive Exploratory Data Analysis to understand the underlying patterns in the data better. <br>\n",
    "EDA helped us in identifying features for our model and we developed more than 10 features for the analysis. <br>\n",
    "As part of the modeling exercise we implemented 5 models: Logistic Regression, Decision Trees, RandomForest, GBT and Linear SVM and utilized model evaluation metrics - Accuracy and F1 Score to identify the best model from the 5. <br>\n",
    "The best model based on the evaluation came out to be the Logistic Regression model. On which, we used cross validation and grid search to refine the model. <br>\n",
    "The best model had an Accuracy of 0.78 and F1 score of 0.76. <br>\n",
    "The top 5 important features predicting the likelihood of a user to churn are:\n",
    "- No. of Days since Registration\n",
    "- No. of Thumbs Down or Dislikes\n",
    "- Maximum Session Time\n",
    "- No. of Songs added to the Playlist\n",
    "- Total Listening Time\n",
    "\n",
    "# Improvements in the current implementation\n",
    "We have obtained decent results in our current implementation. However, we can further improve the results by doing one or more of the following:\n",
    "- Increase the number of observations. This is possible in our case if we utilize entire 128 GB of data\n",
    "- Creating a few more features like users' city or state or the area like urban or rural\n",
    "- Utilizing user surveys/interviews to validate the model outcomes and further enhance the feature set\n"
   ]
  },
  {
   "cell_type": "markdown",
   "metadata": {},
   "source": [
    "# Final Steps\n",
    "Clean up your code, adding comments and renaming variables to make the code easier to read and maintain. Refer to the Spark Project Overview page and Data Scientist Capstone Project Rubric to make sure you are including all components of the capstone project and meet all expectations. Remember, this includes thorough documentation in a README file in a Github repository, as well as a web app or blog post."
   ]
  },
  {
   "cell_type": "code",
   "execution_count": null,
   "metadata": {},
   "outputs": [],
   "source": []
  }
 ],
 "metadata": {
  "kernelspec": {
   "display_name": "Python 3",
   "language": "python",
   "name": "python3"
  },
  "language_info": {
   "codemirror_mode": {
    "name": "ipython",
    "version": 3
   },
   "file_extension": ".py",
   "mimetype": "text/x-python",
   "name": "python",
   "nbconvert_exporter": "python",
   "pygments_lexer": "ipython3",
   "version": "3.6.3"
  }
 },
 "nbformat": 4,
 "nbformat_minor": 2
}
